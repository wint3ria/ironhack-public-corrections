{
 "cells": [
  {
   "cell_type": "markdown",
   "metadata": {},
   "source": [
    "In the cell below, create a Python function that wraps your previous solution for the Bag of Words lab.\n",
    "\n",
    "Requirements:\n",
    "\n",
    "1. Your function should accept the following parameters:\n",
    "    * `docs` [REQUIRED] - array of document paths.\n",
    "    * `stop_words` [OPTIONAL] - array of stop words. The default value is an empty array.\n",
    "\n",
    "1. Your function should return a Python object that contains the following:\n",
    "    * `bag_of_words` - array of strings of normalized unique words in the corpus.\n",
    "    * `term_freq` - array of the term-frequency vectors."
   ]
  },
  {
   "cell_type": "code",
   "execution_count": 1,
   "metadata": {},
   "outputs": [],
   "source": [
    "# Import required libraries\n",
    "\n",
    "# Define function\n",
    "def get_bow_from_docs(docs, stop_words=[]):\n",
    "    \n",
    "    # In the function, first define the variables you will use such as `corpus`, `bag_of_words`, and `term_freq`.\n",
    "    \n",
    "    \n",
    "    \n",
    "    \"\"\"\n",
    "    Loop `docs` and read the content of each doc into a string in `corpus`.\n",
    "    Remember to convert the doc content to lowercases and remove punctuation.\n",
    "    \"\"\"\n",
    "    corpus = []\n",
    "\n",
    "    # Write your code here\n",
    "    for doc in docs:\n",
    "        with open(doc,'r') as f:\n",
    "            output = f.read()\n",
    "        corpus.append(output.lower().strip('.'))\n",
    "    \n",
    "    \n",
    "    \"\"\"\n",
    "    Loop `corpus`. Append the terms in each doc into the `bag_of_words` array. The terms in `bag_of_words` \n",
    "    should be unique which means before adding each term you need to check if it's already added to the array.\n",
    "    In addition, check if each term is in the `stop_words` array. Only append the term to `bag_of_words`\n",
    "    if it is not a stop word.\n",
    "    \"\"\"\n",
    "    \n",
    "    bag_of_words = []\n",
    "    for phrase in corpus:\n",
    "        for word in phrase.split():\n",
    "            if word not in bag_of_words and word not in stop_words:\n",
    "                bag_of_words.append(word)\n",
    "\n",
    "    \n",
    "    \n",
    "    \n",
    "    \"\"\"\n",
    "    Loop `corpus` again. For each doc string, count the number of occurrences of each term in `bag_of_words`. \n",
    "    Create an array for each doc's term frequency and append it to `term_freq`.\n",
    "    \"\"\"\n",
    "    \n",
    "    term_freq = []\n",
    "\n",
    "    # Write your code here\n",
    "    for phrase in corpus:\n",
    "        phrase_list = []\n",
    "        for bag_word in bag_of_words:\n",
    "            phrase_list.append(phrase.split().count(bag_word))\n",
    "        term_freq.append(phrase_list)\n",
    "\n",
    "        \n",
    "    # Now return your output as an object\n",
    "    return {\n",
    "        \"bag_of_words\": bag_of_words,\n",
    "        \"term_freq\": term_freq\n",
    "    }\n",
    "    "
   ]
  },
  {
   "cell_type": "markdown",
   "metadata": {},
   "source": [
    "Test your function without stop words. You should see the output like below:\n",
    "\n",
    "```{'bag_of_words': ['ironhack', 'is', 'cool', 'i', 'love', 'am', 'a', 'student', 'at'], 'term_freq': [[1, 1, 1, 0, 0, 0, 0, 0, 0], [1, 0, 0, 1, 1, 0, 0, 0, 0], [1, 0, 0, 1, 0, 1, 1, 1, 1]]}```"
   ]
  },
  {
   "cell_type": "code",
   "execution_count": 3,
   "metadata": {},
   "outputs": [
    {
     "name": "stdout",
     "output_type": "stream",
     "text": [
      "{'bag_of_words': ['ironhack', 'is', 'cool', 'i', 'love', 'am', 'a', 'student', 'at'], 'term_freq': [[1, 1, 1, 0, 0, 0, 0, 0, 0], [1, 0, 0, 1, 1, 0, 0, 0, 0], [1, 0, 0, 1, 0, 1, 1, 1, 1]]}\n"
     ]
    }
   ],
   "source": [
    "# Define doc paths array\n",
    "docs = ['/Users/joos/Documents/GitHub/data-labs/module-1/lab-string-operations/your-code/doc1.txt',\n",
    "       '/Users/joos/Documents/GitHub/data-labs/module-1/lab-string-operations/your-code/doc2.txt',\n",
    "       '/Users/joos/Documents/GitHub/data-labs/module-1/lab-string-operations/your-code/doc3.txt']\n",
    "\n",
    "# Obtain BoW from your function\n",
    "bow = get_bow_from_docs(docs)\n",
    "\n",
    "# Print BoW\n",
    "print(bow)"
   ]
  },
  {
   "cell_type": "markdown",
   "metadata": {},
   "source": [
    "If your attempt above is successful, nice work done!\n",
    "\n",
    "Now test your function again with the stop words. In the previous lab we defined the stop words in a large array. In this lab, we'll import the stop words from Scikit-Learn."
   ]
  },
  {
   "cell_type": "code",
   "execution_count": 4,
   "metadata": {},
   "outputs": [
    {
     "name": "stdout",
     "output_type": "stream",
     "text": [
      "frozenset({'already', 'per', 'with', 'against', 'except', 'whenever', 'nobody', 'else', 'am', 'any', 'beyond', 'too', 'who', 'hereupon', 'thus', 'twenty', 'where', 'few', 'see', 'between', 'mostly', 'although', 'thru', 'two', 'most', 'whatever', 'might', 'seeming', 'beforehand', 'sometimes', 'elsewhere', 'even', 'least', 'no', 'cry', 'her', 'himself', 'ie', 'moreover', 'why', 'it', 'amoungst', 'his', 'full', 'others', 'be', 'thereby', 'thereafter', 'among', 'only', 'how', 'their', 'part', 'toward', 'off', 'rather', 'from', 'wherever', 'about', 'without', 'hundred', 'she', 'take', 'however', 'herein', 'twelve', 'otherwise', 'now', 'this', 'thence', 'nor', 'someone', 'other', 'somewhere', 'become', 'noone', 'found', 'while', 'some', 'whole', 'next', 'perhaps', 'us', 'for', 'has', 'ours', 'then', 'thick', 'con', 'neither', 'first', 'nothing', 'also', 'can', 'not', 'sincere', 'down', 'the', 'fill', 'into', 'bill', 'latterly', 'they', 'namely', 'latter', 'forty', 'whoever', 'anywhere', 'last', 'describe', 'never', 'here', 'together', 'beside', 'keep', 'amount', 'de', 'yet', 'towards', 'each', 'everything', 'side', 'had', 'same', 'ever', 'could', 'if', 'would', 'formerly', 'very', 'anyone', 'either', 'because', 'one', 'third', 'those', 'six', 'none', 'whose', 'than', 'etc', 'since', 'eleven', 'hereby', 'anything', 'seemed', 'cannot', 'them', 'show', 'co', 'throughout', 'ten', 'you', 'me', 'your', 'wherein', 'again', 'whither', 'call', 'done', 'that', 're', 'whom', 'must', 'over', 'go', 'are', 'may', 'inc', 'therein', 'up', 'couldnt', 'back', 'above', 'fifteen', 'many', 'enough', 'myself', 'give', 'top', 'an', 'hence', 'he', 'every', 'a', 'fifty', 'several', 'therefore', 'almost', 'cant', 'bottom', 'until', 'eg', 'its', 'please', 'nevertheless', 'detail', 'move', 'another', 'nine', 'more', 'along', 'have', 'or', 'whence', 'as', 'became', 'indeed', 'whereas', 'under', 'three', 'our', 'before', 'do', 'thereupon', 'we', 'should', 'after', 'meanwhile', 'being', 'ltd', 'front', 'system', 'yours', 'via', 'both', 'on', 'were', 'anyhow', 'still', 'seems', 'was', 'often', 'own', 'whereupon', 'further', 'but', 'thin', 'will', 'when', 'interest', 'and', 'due', 'though', 'five', 'former', 'such', 'besides', 'all', 'onto', 'everywhere', 'upon', 'through', 'whereby', 'around', 'which', 'somehow', 'anyway', 'mill', 'ourselves', 'so', 'much', 'name', 'these', 'sometime', 'fire', 'alone', 'un', 'at', 'whereafter', 'out', 'of', 'during', 'yourself', 'made', 'within', 'yourselves', 'what', 'afterwards', 'mine', 'amongst', 'by', 'sixty', 'behind', 'get', 'across', 'four', 'my', 'always', 'been', 'hasnt', 'once', 'is', 'put', 'becoming', 'eight', 'hers', 'hereafter', 'him', 'well', 'herself', 'becomes', 'in', 'whether', 'empty', 'i', 'less', 'seem', 'something', 'find', 'everyone', 'itself', 'below', 'to', 'themselves', 'serious', 'nowhere', 'there'})\n"
     ]
    }
   ],
   "source": [
    "from sklearn.feature_extraction import stop_words\n",
    "print(stop_words.ENGLISH_STOP_WORDS)"
   ]
  },
  {
   "cell_type": "markdown",
   "metadata": {},
   "source": [
    "You should have seen a large list of words that looks like:\n",
    "\n",
    "```frozenset({'across', 'mine', 'cannot', ...})```\n",
    "\n",
    "`frozenset` is a type of Python object that is immutable. In this lab you can use it just like an array without conversion."
   ]
  },
  {
   "cell_type": "markdown",
   "metadata": {},
   "source": [
    "Next, test your function with supplying `stop_words.ENGLISH_STOP_WORDS` as the second parameter."
   ]
  },
  {
   "cell_type": "code",
   "execution_count": 6,
   "metadata": {},
   "outputs": [
    {
     "name": "stdout",
     "output_type": "stream",
     "text": [
      "{'bag_of_words': ['ironhack', 'cool', 'love', 'student'], 'term_freq': [[1, 1, 0, 0], [1, 0, 1, 0], [1, 0, 0, 1]]}\n"
     ]
    }
   ],
   "source": [
    "bow = get_bow_from_docs(docs, stop_words.ENGLISH_STOP_WORDS)\n",
    "\n",
    "print(bow)"
   ]
  },
  {
   "cell_type": "markdown",
   "metadata": {},
   "source": [
    "You should have seen:\n",
    "\n",
    "```{'bag_of_words': ['ironhack', 'cool', 'love', 'student'], 'term_freq': [[1, 1, 0, 0], [1, 0, 1, 0], [1, 0, 0, 1]]}```"
   ]
  },
  {
   "cell_type": "code",
   "execution_count": null,
   "metadata": {},
   "outputs": [],
   "source": []
  }
 ],
 "metadata": {
  "kernelspec": {
   "display_name": "Python 3",
   "language": "python",
   "name": "python3"
  },
  "language_info": {
   "codemirror_mode": {
    "name": "ipython",
    "version": 3
   },
   "file_extension": ".py",
   "mimetype": "text/x-python",
   "name": "python",
   "nbconvert_exporter": "python",
   "pygments_lexer": "ipython3",
   "version": "3.7.3"
  }
 },
 "nbformat": 4,
 "nbformat_minor": 2
}
