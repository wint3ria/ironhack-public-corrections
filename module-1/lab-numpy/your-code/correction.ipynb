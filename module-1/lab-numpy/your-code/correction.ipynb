{
 "cells": [
  {
   "cell_type": "markdown",
   "metadata": {},
   "source": [
    "#### 1. Import the NUMPY package under the name np.\n",
    "\n"
   ]
  },
  {
   "cell_type": "code",
   "execution_count": 1,
   "metadata": {},
   "outputs": [],
   "source": [
    "import numpy as np"
   ]
  },
  {
   "cell_type": "markdown",
   "metadata": {},
   "source": [
    "#### 2. Print the NUMPY version and the configuration.\n",
    "\n"
   ]
  },
  {
   "cell_type": "code",
   "execution_count": 2,
   "metadata": {},
   "outputs": [
    {
     "name": "stdout",
     "output_type": "stream",
     "text": [
      "1.16.2\n",
      "<module 'numpy.__config__' from '/Users/selimmellouk/.local/lib/python3.6/site-packages/numpy/__config__.py'>\n"
     ]
    }
   ],
   "source": [
    "print(np.__version__)\n",
    "print(np.__config__)"
   ]
  },
  {
   "cell_type": "markdown",
   "metadata": {},
   "source": [
    "#### 3. Generate a 2x3x5 3-dimensional array with random values. Assign the array to variable \"a\"\n",
    "#### Challenge: there are at least three easy ways that use numpy to generate random arrays. How many ways can you find?"
   ]
  },
  {
   "cell_type": "code",
   "execution_count": 3,
   "metadata": {},
   "outputs": [
    {
     "name": "stdout",
     "output_type": "stream",
     "text": [
      "dim 1 : 2\n",
      "dim 2 : 3\n",
      "dim 3 : 5\n",
      "First element : 0.09258278563454969\n",
      "array([[[0.09258279, 0.71673152, 0.16997761, 0.66387199, 0.43099545],\n",
      "        [0.06651274, 0.92955937, 0.83758105, 0.37591409, 0.6623897 ],\n",
      "        [0.83360669, 0.15003446, 0.83043076, 0.01201128, 0.39025089]],\n",
      "\n",
      "       [[0.76748838, 0.21918491, 0.93374386, 0.859573  , 0.43534897],\n",
      "        [0.79640628, 0.91358241, 0.63925974, 0.90784757, 0.95796414],\n",
      "        [0.60231852, 0.17703479, 0.50917806, 0.31700782, 0.79614507]]])\n",
      "dim 1 : 2\n",
      "dim 2 : 3\n",
      "dim 3 : 5\n",
      "First element : 0\n",
      "array([[[0, 0, 3, 4, 3],\n",
      "        [2, 2, 2, 3, 0],\n",
      "        [3, 4, 1, 1, 2]],\n",
      "\n",
      "       [[3, 2, 1, 4, 0],\n",
      "        [0, 0, 3, 2, 2],\n",
      "        [0, 3, 4, 1, 4]]])\n",
      "dim 1 : 2\n",
      "dim 2 : 3\n",
      "dim 3 : 5\n",
      "First element : 0.7759947520071501\n",
      "array([[[0.77599475, 0.66119779, 0.90318828, 0.93591888, 0.43796036],\n",
      "        [0.15679764, 0.49979713, 0.94860446, 0.23972249, 0.86777747],\n",
      "        [0.53055437, 0.30131791, 0.55619985, 0.94034123, 0.94171891]],\n",
      "\n",
      "       [[0.59777451, 0.96077901, 0.76088055, 0.99972751, 0.05927621],\n",
      "        [0.91022093, 0.91077384, 0.80356764, 0.11992734, 0.0577722 ],\n",
      "        [0.12594256, 0.42067702, 0.0359007 , 0.82451708, 0.05132666]]])\n"
     ]
    }
   ],
   "source": [
    "# Permet de faire des print plus jolis\n",
    "from pprint import pprint\n",
    "\n",
    "# Méthode 1 : Distribution uniforme entre 0 et 1\n",
    "a_1 = np.random.rand(2,3,5)\n",
    "print(\"dim 1 :\",len(a_1))\n",
    "print(\"dim 2 :\",len(a_1[0]))\n",
    "print(\"dim 3 :\",len(a_1[0][0]))\n",
    "print(\"First element :\", ((a_1[0][0][0])))\n",
    "# On affiche le tableau\n",
    "pprint((a_1))\n",
    "\n",
    "\n",
    "# Méthode 2 : On ne génère que des entiers (distributoion uniforme)\n",
    "# On génère des entiers entre 0 et 5 (exclus), contenus dans une matrice de taille\n",
    "# 2 * 3 * 5\n",
    "a_2 = np.random.randint(5, size=(2,3,5))\n",
    "print(\"dim 1 :\",len(a_2))\n",
    "print(\"dim 2 :\",len(a_2[0]))\n",
    "print(\"dim 3 :\",len(a_2[0][0]))\n",
    "print(\"First element :\", ((a_2[0][0][0])))\n",
    "# On affiche le tableau\n",
    "pprint((a_2))\n",
    "\n",
    "\n",
    "# Méthode 3 : Distribution uniforme entre 0 et 1\n",
    "a_3 = np.random.random_sample(size=(2, 3, 5))\n",
    "print(\"dim 1 :\",len(a_3))\n",
    "print(\"dim 2 :\",len(a_3[0]))\n",
    "print(\"dim 3 :\",len(a_3[0][0]))\n",
    "print(\"First element :\", ((a_3[0][0][0])))\n",
    "# On affiche le tableau\n",
    "pprint(a_3)"
   ]
  },
  {
   "cell_type": "markdown",
   "metadata": {},
   "source": [
    "#### 4. Print a."
   ]
  },
  {
   "cell_type": "code",
   "execution_count": 4,
   "metadata": {},
   "outputs": [
    {
     "name": "stdout",
     "output_type": "stream",
     "text": [
      "[[[0.09258279 0.71673152 0.16997761 0.66387199 0.43099545]\n",
      "  [0.06651274 0.92955937 0.83758105 0.37591409 0.6623897 ]\n",
      "  [0.83360669 0.15003446 0.83043076 0.01201128 0.39025089]]\n",
      "\n",
      " [[0.76748838 0.21918491 0.93374386 0.859573   0.43534897]\n",
      "  [0.79640628 0.91358241 0.63925974 0.90784757 0.95796414]\n",
      "  [0.60231852 0.17703479 0.50917806 0.31700782 0.79614507]]]\n",
      "[[[0 0 3 4 3]\n",
      "  [2 2 2 3 0]\n",
      "  [3 4 1 1 2]]\n",
      "\n",
      " [[3 2 1 4 0]\n",
      "  [0 0 3 2 2]\n",
      "  [0 3 4 1 4]]]\n",
      "[[[0.77599475 0.66119779 0.90318828 0.93591888 0.43796036]\n",
      "  [0.15679764 0.49979713 0.94860446 0.23972249 0.86777747]\n",
      "  [0.53055437 0.30131791 0.55619985 0.94034123 0.94171891]]\n",
      "\n",
      " [[0.59777451 0.96077901 0.76088055 0.99972751 0.05927621]\n",
      "  [0.91022093 0.91077384 0.80356764 0.11992734 0.0577722 ]\n",
      "  [0.12594256 0.42067702 0.0359007  0.82451708 0.05132666]]]\n"
     ]
    }
   ],
   "source": [
    "print(a_1)\n",
    "print(a_2)\n",
    "print(a_3)"
   ]
  },
  {
   "cell_type": "markdown",
   "metadata": {},
   "source": [
    "#### 5. Create a 5x2x3 3-dimensional array with all values equaling 1.\n",
    "#### Assign the array to variable \"b\""
   ]
  },
  {
   "cell_type": "code",
   "execution_count": 5,
   "metadata": {},
   "outputs": [],
   "source": [
    "# On reprend le format précisé en 4. pour a\n",
    "a = np.random.rand(2,3,5)\n",
    "\n",
    "b = np.ones((5, 2, 3))"
   ]
  },
  {
   "cell_type": "markdown",
   "metadata": {},
   "source": [
    "#### 6. Print b.\n",
    "\n"
   ]
  },
  {
   "cell_type": "code",
   "execution_count": 6,
   "metadata": {},
   "outputs": [
    {
     "name": "stdout",
     "output_type": "stream",
     "text": [
      "[[[1. 1. 1.]\n",
      "  [1. 1. 1.]]\n",
      "\n",
      " [[1. 1. 1.]\n",
      "  [1. 1. 1.]]\n",
      "\n",
      " [[1. 1. 1.]\n",
      "  [1. 1. 1.]]\n",
      "\n",
      " [[1. 1. 1.]\n",
      "  [1. 1. 1.]]\n",
      "\n",
      " [[1. 1. 1.]\n",
      "  [1. 1. 1.]]]\n"
     ]
    }
   ],
   "source": [
    "print(b)"
   ]
  },
  {
   "cell_type": "markdown",
   "metadata": {},
   "source": [
    "#### 7. Do a and b have the same size? How do you prove that in Python code?"
   ]
  },
  {
   "cell_type": "code",
   "execution_count": 7,
   "metadata": {},
   "outputs": [
    {
     "name": "stdout",
     "output_type": "stream",
     "text": [
      "shape of a : (2, 3, 5)\n",
      "shape of b : (5, 2, 3)\n",
      "False\n"
     ]
    }
   ],
   "source": [
    "# No they do not : \n",
    "# a : dim 1 = 2, dim 2 = 3, dim 3 = 5 \n",
    "# b : dim 1 = 5, dim 2 = 2, dim 3 = 3\n",
    "print(\"shape of a : {}\".format(a.shape))\n",
    "print(\"shape of b : {}\".format(b.shape))\n",
    "print(b.shape == a.shape)"
   ]
  },
  {
   "cell_type": "markdown",
   "metadata": {},
   "source": [
    "#### 8. Are you able to add a and b? Why or why not?\n",
    "\n"
   ]
  },
  {
   "cell_type": "code",
   "execution_count": 8,
   "metadata": {},
   "outputs": [
    {
     "name": "stdout",
     "output_type": "stream",
     "text": [
      "We get an error because the shapes are not the same\n",
      "shape of a : (2, 3, 5)\n",
      "shape of b : (5, 2, 3)\n"
     ]
    }
   ],
   "source": [
    "#print(a + b)\n",
    "print(\"We get an error because the shapes are not the same\")\n",
    "print(\"shape of a : {}\".format(a.shape))\n",
    "print(\"shape of b : {}\".format(b.shape))"
   ]
  },
  {
   "cell_type": "markdown",
   "metadata": {},
   "source": [
    "#### 9. Transpose b so that it has the same structure of a (i.e. become a 2x3x5 array). Assign the transposed array to varialbe \"c\"."
   ]
  },
  {
   "cell_type": "code",
   "execution_count": 9,
   "metadata": {},
   "outputs": [
    {
     "name": "stdout",
     "output_type": "stream",
     "text": [
      "shape of b : (5, 2, 3)\n",
      "With swap 1st step : shape of c : (2, 5, 3)\n",
      "With swap 2nd step : shape of c : (2, 3, 5)\n",
      "With transpose in 1 step : shape of c : (2, 3, 5)\n"
     ]
    }
   ],
   "source": [
    "print(\"shape of b : {}\".format(b.shape))\n",
    "# b has format (5, 2, 3) and a has format (2, 3, 5)\n",
    "# so we need to swap dim 0 and dim 1 in b, then we get (2, 5, 3)\n",
    "c = np.swapaxes(b, 0, 1).copy()\n",
    "print(\"With swap 1st step : shape of c : {}\".format(c.shape))\n",
    "# then we need to swap dim 1 and dim 2 in the c newly obtained and we get (2, 3, 5)\n",
    "c = np.swapaxes(c, 1, 2)\n",
    "print(\"With swap 2nd step : shape of c : {}\".format(c.shape))\n",
    "# Plus efficace : en 1 appel d'une fonction (merci Lauma)\n",
    "c = b.transpose([1,2,0])\n",
    "print(\"With transpose in 1 step : shape of c : {}\".format(c.shape))\n",
    "\n"
   ]
  },
  {
   "cell_type": "markdown",
   "metadata": {},
   "source": [
    "#### 10. Try to add a and c. Now it should work. Assign the sum to varialbe \"d\". But why does it work now?"
   ]
  },
  {
   "cell_type": "code",
   "execution_count": 10,
   "metadata": {},
   "outputs": [
    {
     "name": "stdout",
     "output_type": "stream",
     "text": [
      "shape of a : (2, 3, 5)\n",
      "shape of c : (2, 3, 5)\n",
      "shape of d : (2, 3, 5)\n",
      "[[[1.57077857 1.96288253 1.61992657 1.52100226 1.35967137]\n",
      "  [1.13454283 1.35628951 1.67825481 1.23878464 1.93798881]\n",
      "  [1.07845615 1.61491044 1.85615836 1.13026705 1.75996258]]\n",
      "\n",
      " [[1.72905374 1.20623215 1.9215284  1.6003363  1.32077919]\n",
      "  [1.50125649 1.16128121 1.75155692 1.45862719 1.28608066]\n",
      "  [1.3164173  1.21154789 1.72827245 1.12609473 1.84026365]]]\n"
     ]
    }
   ],
   "source": [
    "# We can then add\n",
    "d = a + c\n",
    "print(\"shape of a : {}\".format(a.shape))\n",
    "print(\"shape of c : {}\".format(c.shape))\n",
    "print(\"shape of d : {}\".format(d.shape))\n",
    "print(d)"
   ]
  },
  {
   "cell_type": "markdown",
   "metadata": {},
   "source": [
    "#### 12. Multiply a and c. Assign the result to e.\n",
    "\n"
   ]
  },
  {
   "cell_type": "code",
   "execution_count": 11,
   "metadata": {},
   "outputs": [
    {
     "name": "stdout",
     "output_type": "stream",
     "text": [
      "shape of e : (2, 3, 5)\n"
     ]
    }
   ],
   "source": [
    "e = a*c\n",
    "print(\"shape of e : {}\".format(e.shape))"
   ]
  },
  {
   "cell_type": "markdown",
   "metadata": {},
   "source": [
    "#### 13. Does e equal to a? Why or why not?"
   ]
  },
  {
   "cell_type": "code",
   "execution_count": 12,
   "metadata": {},
   "outputs": [
    {
     "name": "stdout",
     "output_type": "stream",
     "text": [
      "[[[ True  True  True  True  True]\n",
      "  [ True  True  True  True  True]\n",
      "  [ True  True  True  True  True]]\n",
      "\n",
      " [[ True  True  True  True  True]\n",
      "  [ True  True  True  True  True]\n",
      "  [ True  True  True  True  True]]]\n",
      "[[[0.57077857 0.96288253 0.61992657 0.52100226 0.35967137]\n",
      "  [0.13454283 0.35628951 0.67825481 0.23878464 0.93798881]\n",
      "  [0.07845615 0.61491044 0.85615836 0.13026705 0.75996258]]\n",
      "\n",
      " [[0.72905374 0.20623215 0.9215284  0.6003363  0.32077919]\n",
      "  [0.50125649 0.16128121 0.75155692 0.45862719 0.28608066]\n",
      "  [0.3164173  0.21154789 0.72827245 0.12609473 0.84026365]]]\n",
      "[[[0.57077857 0.96288253 0.61992657 0.52100226 0.35967137]\n",
      "  [0.13454283 0.35628951 0.67825481 0.23878464 0.93798881]\n",
      "  [0.07845615 0.61491044 0.85615836 0.13026705 0.75996258]]\n",
      "\n",
      " [[0.72905374 0.20623215 0.9215284  0.6003363  0.32077919]\n",
      "  [0.50125649 0.16128121 0.75155692 0.45862719 0.28608066]\n",
      "  [0.3164173  0.21154789 0.72827245 0.12609473 0.84026365]]]\n"
     ]
    }
   ],
   "source": [
    "# Classical multiplication (with *) applied to 2 numpy darrays return \n",
    "# a vector of same shape than both a and c\n",
    "# this is pairwise multiplication meaning : e[i][j][k] = a[i][j][k] * c[i][j][k]\n",
    "# e = a because all elements of b are equal to 1\n",
    "print(e == a)\n",
    "print(e)\n",
    "print(a)"
   ]
  },
  {
   "cell_type": "markdown",
   "metadata": {},
   "source": [
    "#### 14. Identify the max, min, and mean values in d. Assign those values to variables \"d_max\", \"d_min\", and \"d_mean\""
   ]
  },
  {
   "cell_type": "code",
   "execution_count": 13,
   "metadata": {},
   "outputs": [
    {
     "name": "stdout",
     "output_type": "stream",
     "text": [
      "max : 1.96, min : 1.08, mean : 1.50\n"
     ]
    }
   ],
   "source": [
    "d_max = np.max(d)\n",
    "d_min = np.min(d)\n",
    "d_mean = np.mean(d)\n",
    "\n",
    "print(\"max : {0:.2f}, min : {1:.2f}, mean : {2:.2f}\".format(d_max, d_min, d_mean))\n",
    "# Meaning : 0th value with 2 decimals, then 1st then 2nd  \n",
    "# (from the 0th, 1st and 2nd value specified as an argument)"
   ]
  },
  {
   "cell_type": "markdown",
   "metadata": {},
   "source": [
    "#### 15. Now we want to label the values in d. First create an empty array \"f\" with the same shape (i.e. 2x3x5) as d using `np.empty`."
   ]
  },
  {
   "cell_type": "code",
   "execution_count": 14,
   "metadata": {},
   "outputs": [
    {
     "name": "stdout",
     "output_type": "stream",
     "text": [
      "True\n"
     ]
    }
   ],
   "source": [
    "f = np.empty([2, 3, 5])\n",
    "print(f.shape == d.shape)"
   ]
  },
  {
   "cell_type": "markdown",
   "metadata": {},
   "source": [
    "#### 16. Populate the values in f. For each value in d, if it's larger than d_min but smaller than d_mean, assign 25 to the corresponding value in f.\n",
    "#### If a value in d is larger than d_mean but smaller than d_max, assign 75 to the corresponding value in f.\n",
    "#### If a value equals to d_mean, assign 50 to the corresponding value in f.\n",
    "#### Assign 0 to the corresponding value(s) in f for d_min in d.\n",
    "#### Assign 100 to the corresponding value(s) in f for d_max in d.\n",
    "#### In the end, f should have only the following values: 0, 25, 50, 75, and 100.\n",
    "#### Note: you don't have to use Numpy in this question."
   ]
  },
  {
   "cell_type": "code",
   "execution_count": 15,
   "metadata": {},
   "outputs": [
    {
     "name": "stdout",
     "output_type": "stream",
     "text": [
      "We first iterate over the first dimension which is equal to 2\n",
      "We first iterate over the second dimension which is equal to 3\n",
      "We first iterate over the second dimension which is equal to 5\n",
      "[[[75. 50. 75. 75. 25.]\n",
      "  [25. 25. 75. 25. 75.]\n",
      "  [50. 75. 75. 25. 75.]]\n",
      "\n",
      " [[75. 25. 75. 75. 25.]\n",
      "  [75. 25. 75. 25. 25.]\n",
      "  [25. 25. 75. 25. 75.]]]\n"
     ]
    }
   ],
   "source": [
    "print(\"We first iterate over the first dimension which is equal to {}\".format(len(d)))\n",
    "print(\"We first iterate over the second dimension which is equal to {}\".format(len(d[0])))\n",
    "print(\"We first iterate over the second dimension which is equal to {}\".format(len(d[0][0])))\n",
    "\n",
    "# First dim = 2\n",
    "for i in range(len(f)):\n",
    "    # Second dim = 3\n",
    "    for j in range(len(f[0])):\n",
    "        # Third dim = 5\n",
    "        for k in range(len(f[0][0])):\n",
    "            if  d_min < d[i][j][k] < d_mean:\n",
    "                f[i][j][k] = 25\n",
    "            elif  d_mean < d[i][j][k] < d_max :\n",
    "                f[i][j][k] = 75\n",
    "            else:\n",
    "                f[i][j][k] = 50\n",
    "print(f)"
   ]
  },
  {
   "cell_type": "markdown",
   "metadata": {},
   "source": [
    "#### 17. Print d and f. Do you have your expected f?"
   ]
  },
  {
   "cell_type": "code",
   "execution_count": 16,
   "metadata": {},
   "outputs": [
    {
     "name": "stdout",
     "output_type": "stream",
     "text": [
      "max : 1.97, min : 1.01, mean : 1.62\n"
     ]
    }
   ],
   "source": [
    "d = np.array([[[1.85836099, 1.67064465, 1.62576044, 1.40243961, 1.88454931],\n",
    "        [1.75354326, 1.69403643, 1.36729252, 1.61415071, 1.12104981],\n",
    "        [1.72201435, 1.1862918 , 1.87078449, 1.7726778 , 1.88180042]],\n",
    "       [[1.44747908, 1.31673383, 1.02000951, 1.52218947, 1.97066381],\n",
    "        [1.79129243, 1.74983003, 1.96028037, 1.85166831, 1.65450881],\n",
    "        [1.18068344, 1.9587381 , 1.00656599, 1.93402165, 1.73514584]]])\n",
    "\n",
    "d_max = np.max(d)\n",
    "d_min = np.min(d)\n",
    "d_mean = np.mean(d)\n",
    "\n",
    "print(\"max : {0:.2f}, min : {1:.2f}, mean : {2:.2f}\".format(d_max, d_min, d_mean))\n",
    "# Meaning : 0th value with 2 decimals, then 1st then 2nd  \n",
    "# (from the 0th, 1st and 2nd value specified as an argument)"
   ]
  },
  {
   "cell_type": "code",
   "execution_count": 17,
   "metadata": {},
   "outputs": [
    {
     "name": "stdout",
     "output_type": "stream",
     "text": [
      "We first iterate over the first dimension which is equal to 2\n",
      "We first iterate over the second dimension which is equal to 3\n",
      "We first iterate over the second dimension which is equal to 5\n",
      "[[[ 75  75  75  25  75]\n",
      "  [ 75  75  25  25  25]\n",
      "  [ 75  25  75  75  75]]\n",
      "\n",
      " [[ 25  25  25  25 100]\n",
      "  [ 75  75  75  75  75]\n",
      "  [ 25  75   0  75  75]]]\n"
     ]
    }
   ],
   "source": [
    "## Avec une boucle\n",
    "\n",
    "print(\"We first iterate over the first dimension which is equal to {}\".format(len(d)))\n",
    "print(\"We first iterate over the second dimension which is equal to {}\".format(len(d[0])))\n",
    "print(\"We first iterate over the second dimension which is equal to {}\".format(len(d[0][0])))\n",
    "\n",
    "# First dim = 2\n",
    "for i in range(len(d)):\n",
    "    # Second dim = 3\n",
    "    for j in range(len(d[0])):\n",
    "        # Third dim = 5\n",
    "        for k in range(len(d[0][0])):\n",
    "            if  d_min < d[i][j][k] < d_mean:\n",
    "                f[i][j][k] = 25\n",
    "            elif  d_mean < d[i][j][k] < d_max :\n",
    "                f[i][j][k] = 75\n",
    "            elif d[i][j][k] == d_mean :\n",
    "                f[i][j][k] = 50\n",
    "            elif d[i][j][k] == d_min :\n",
    "                f[i][j][k] = 0\n",
    "            elif d[i][j][k] == d_max :\n",
    "                f[i][j][k] = 100\n",
    "              \n",
    "            \n",
    "# Beaucoup plus élégant : avec la fonction vectorize : \n",
    "# transforme une fonction qui prend en entrée un nombre, \n",
    "# en une fonction qui prend en entrée un vecteur et applique cette fonction a tous les éléments\n",
    "\n",
    "# d will be an element of d\n",
    "def f_fun(d_min, d_max, d_mean, d):\n",
    "    if  d_min < d < d_mean:\n",
    "        f = 25\n",
    "    elif  d_mean < d < d_max :\n",
    "        f = 75\n",
    "    elif d == d_mean :\n",
    "        f= 50\n",
    "    elif d == d_min :\n",
    "        f= 0\n",
    "    elif d == d_max :\n",
    "        f = 100\n",
    "    return f\n",
    "\n",
    "# python-function as ufunc\n",
    "import numpy as np\n",
    "vf= np.vectorize(lambda x :f_fun(d_min=d_min, d_max=d_max, d_mean=d_mean, d=x))\n",
    "## On récupère bien le même output\n",
    "f == vf(d)\n",
    "print(vf(d))"
   ]
  },
  {
   "cell_type": "markdown",
   "metadata": {},
   "source": [
    "#### 18. Bonus question: instead of using numbers (i.e. 0, 25, 50, 75, and 100), how to use string values \n",
    "#### (\"A\", \"B\", \"C\", \"D\", and \"E\") to label the array elements? You are expecting the result to be:"
   ]
  },
  {
   "cell_type": "code",
   "execution_count": 19,
   "metadata": {},
   "outputs": [
    {
     "name": "stdout",
     "output_type": "stream",
     "text": [
      "[[['D' 'D' 'D' 'B' 'D']\n",
      "  ['D' 'D' 'B' 'B' 'B']\n",
      "  ['D' 'B' 'D' 'D' 'D']]\n",
      "\n",
      " [['B' 'B' 'B' 'B' 'E']\n",
      "  ['D' 'D' 'D' 'D' 'D']\n",
      "  ['B' 'D' 'A' 'D' 'D']]]\n"
     ]
    }
   ],
   "source": [
    "   \n",
    "# Beaucoup plus élégant : avec la fonction vectorize : \n",
    "# transforme une fonction qui prend en entrée un nombre, \n",
    "# en une fonction qui prend en entrée un vecteur et applique cette fonction a tous les éléments\n",
    "\n",
    "# d will be an element of d\n",
    "def f_fun(d_min, d_max, d_mean, d):\n",
    "    if  d_min < d < d_mean:\n",
    "        f = \"B\"\n",
    "    elif  d_mean < d < d_max :\n",
    "        f = \"D\"\n",
    "    elif d == d_mean :\n",
    "        f= \"C\"\n",
    "    elif d == d_min :\n",
    "        f= \"A\"\n",
    "    elif d == d_max :\n",
    "        f = \"E\"\n",
    "    return f\n",
    "\n",
    "# python-function as ufunc\n",
    "import numpy as np\n",
    "vf= np.vectorize(lambda x :f_fun(d_min=d_min, d_max=d_max, d_mean=d_mean, d=x))\n",
    "print(vf(d))"
   ]
  },
  {
   "cell_type": "code",
   "execution_count": 22,
   "metadata": {},
   "outputs": [
    {
     "data": {
      "text/plain": [
       "\"\\narray([[[ 'D',  'D',  'D',  'B',  'D'],\\n        [ 'D',  'D',  'B',  'B',  'B'],\\n        [ 'D',  'B',  'D',  'D',  'D']],\\n       [[ 'B',  'B',  'B',  'B',  'E'],\\n        [ 'D',  'D',  'D',  'D',  'D'],\\n        [ 'B',  'D',   'A',  'D', 'D']]])\\n\""
      ]
     },
     "execution_count": 22,
     "metadata": {},
     "output_type": "execute_result"
    }
   ],
   "source": [
    "### Desired output\n",
    "\"\"\"\n",
    "array([[[ 'D',  'D',  'D',  'B',  'D'],\n",
    "        [ 'D',  'D',  'B',  'B',  'B'],\n",
    "        [ 'D',  'B',  'D',  'D',  'D']],\n",
    "       [[ 'B',  'B',  'B',  'B',  'E'],\n",
    "        [ 'D',  'D',  'D',  'D',  'D'],\n",
    "        [ 'B',  'D',   'A',  'D', 'D']]])\n",
    "\"\"\" "
   ]
  },
  {
   "cell_type": "code",
   "execution_count": null,
   "metadata": {},
   "outputs": [],
   "source": []
  }
 ],
 "metadata": {
  "kernelspec": {
   "display_name": "Python 3",
   "language": "python",
   "name": "python3"
  },
  "language_info": {
   "codemirror_mode": {
    "name": "ipython",
    "version": 3
   },
   "file_extension": ".py",
   "mimetype": "text/x-python",
   "name": "python",
   "nbconvert_exporter": "python",
   "pygments_lexer": "ipython3",
   "version": "3.6.8"
  }
 },
 "nbformat": 4,
 "nbformat_minor": 2
}
